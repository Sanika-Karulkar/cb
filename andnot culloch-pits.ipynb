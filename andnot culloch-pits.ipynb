{
 "cells": [
  {
   "cell_type": "code",
   "execution_count": 7,
   "id": "fffe28fb",
   "metadata": {},
   "outputs": [],
   "source": [
    "x1=[0,0,1,1]\n",
    "x2=[0,1,0,1]\n",
    "y=[0,0,1,0]"
   ]
  },
  {
   "cell_type": "code",
   "execution_count": 8,
   "id": "708c4d72",
   "metadata": {},
   "outputs": [],
   "source": [
    "def mcculloh(w1,w2):\n",
    "    x=[] \n",
    "    for i,j in zip(x1,x2):\n",
    "        k=(i*w1)+(j*w2)\n",
    "        if k<0:\n",
    "            x.append(0)\n",
    "        else:\n",
    "            x.append(k)\n",
    "    if y==x:\n",
    "        print(\"Done\")\n",
    "    else:\n",
    "        print(\"Invalid\")"
   ]
  },
  {
   "cell_type": "code",
   "execution_count": 9,
   "id": "d92e5904",
   "metadata": {},
   "outputs": [
    {
     "name": "stdout",
     "output_type": "stream",
     "text": [
      "Invalid\n"
     ]
    }
   ],
   "source": [
    "mcculloh(1,-1)"
   ]
  },
  {
   "cell_type": "code",
   "execution_count": null,
   "id": "dc5fbba1",
   "metadata": {},
   "outputs": [],
   "source": []
  }
 ],
 "metadata": {
  "kernelspec": {
   "display_name": "Python 3 (ipykernel)",
   "language": "python",
   "name": "python3"
  },
  "language_info": {
   "codemirror_mode": {
    "name": "ipython",
    "version": 3
   },
   "file_extension": ".py",
   "mimetype": "text/x-python",
   "name": "python",
   "nbconvert_exporter": "python",
   "pygments_lexer": "ipython3",
   "version": "3.11.4"
  }
 },
 "nbformat": 4,
 "nbformat_minor": 5
}
